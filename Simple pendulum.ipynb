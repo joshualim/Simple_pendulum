{
 "cells": [
  {
   "cell_type": "markdown",
   "metadata": {},
   "source": [
    "## Simple pendulum animations\n",
    "This notebook generates animations of pendulum of different length"
   ]
  },
  {
   "cell_type": "code",
   "execution_count": 65,
   "metadata": {
    "collapsed": false
   },
   "outputs": [],
   "source": [
    "## set up\n",
    "from numpy import *\n",
    "import matplotlib.pyplot as plt\n",
    "import matplotlib.animation as animation\n",
    "\n",
    "g = 9.81 #\n",
    "g = 1.62 # gravity on moon\n",
    "g = 24.79 # gravity on jupiter \n",
    "L = 0.5 # pendulum length\n",
    "\n",
    "#define the displacement\n",
    "theta0 = 30 * pi/180 # max swing angle (in radians) \n",
    "horiz_disp = 0.2 # alternative calculation - specify horizontal displacement\n",
    "theta0 = arcsin(horiz_disp/L)\n",
    "\n",
    "# give ranges for plotting\n",
    "ymax = 2\n",
    "xmax = 0.5"
   ]
  },
  {
   "cell_type": "code",
   "execution_count": 66,
   "metadata": {
    "collapsed": false
   },
   "outputs": [
    {
     "name": "stderr",
     "output_type": "stream",
     "text": [
      "Exception in Tkinter callback\n",
      "Traceback (most recent call last):\n",
      "  File \"/usr/lib/python2.7/lib-tk/Tkinter.py\", line 1489, in __call__\n",
      "    return self.func(*args)\n",
      "  File \"/usr/lib/python2.7/lib-tk/Tkinter.py\", line 536, in callit\n",
      "    func(*args)\n",
      "  File \"/usr/lib/pymodules/python2.7/matplotlib/backends/backend_tkagg.py\", line 141, in _on_timer\n",
      "    TimerBase._on_timer(self)\n",
      "  File \"/usr/lib/pymodules/python2.7/matplotlib/backend_bases.py\", line 1203, in _on_timer\n",
      "    ret = func(*args, **kwargs)\n",
      "  File \"/usr/lib/pymodules/python2.7/matplotlib/animation.py\", line 876, in _step\n",
      "    still_going = Animation._step(self, *args)\n",
      "  File \"/usr/lib/pymodules/python2.7/matplotlib/animation.py\", line 735, in _step\n",
      "    self._draw_next_frame(framedata, self._blit)\n",
      "  File \"/usr/lib/pymodules/python2.7/matplotlib/animation.py\", line 753, in _draw_next_frame\n",
      "    self._pre_draw(framedata, blit)\n",
      "  File \"/usr/lib/pymodules/python2.7/matplotlib/animation.py\", line 766, in _pre_draw\n",
      "    self._blit_clear(self._drawn_artists, self._blit_cache)\n",
      "  File \"/usr/lib/pymodules/python2.7/matplotlib/animation.py\", line 806, in _blit_clear\n",
      "    a.figure.canvas.restore_region(bg_cache[a])\n",
      "KeyError: <matplotlib.axes.AxesSubplot object at 0x7f08635b6e50>\n"
     ]
    }
   ],
   "source": [
    "## Calculation\n",
    "omega = sqrt(g/L)\n",
    "\n",
    "t = arange(0,2*pi/omega,0.05) # time steps\n",
    "\n",
    "theta = theta0 * cos(omega*t) # calc angle\n",
    "\n",
    "# convert angle into bob position\n",
    "x = L * sin(theta)\n",
    "y = L * (1-cos(theta))\n",
    "\n",
    "## plot \n",
    "fig, ax = plt.subplots()\n",
    "line, = ax.plot(x, y)\n",
    "line2, = ax.plot(x, y, linestyle='--', c='b')\n",
    "#bob = ax.scatter(x,y)\n",
    "\n",
    "# set plot limits (this makes comparisons easier)\n",
    "ax.set_ylim([-0.1,ymax])\n",
    "ax.set_xlim([-xmax,xmax])\n",
    "\n",
    "def animate(i):\n",
    "    line.set_ydata([L, y[i]])  # update the data\n",
    "    line.set_xdata([0, x[i]])\n",
    "#  bob.set_array([x[i],y[i]])\n",
    "    \n",
    "    return line,#bob\n",
    "\n",
    "# Init only required for blitting to give a clean slate.\n",
    "def init():\n",
    "    line.set_ydata(ma.array(t, mask=True))\n",
    "    line.set_xdata(ma.array(t, mask=True))\n",
    "#    bob.set_xdata(ma.array(t, mask=True))\n",
    "#    bob.set_ydata(ma.array(t, mask=True))\n",
    "    return line,\n",
    "\n",
    "ani = animation.FuncAnimation(fig, animate, arange(0,len(t),1), init_func=init,\n",
    "    interval=25, blit=True)\n",
    "\n",
    "def save_ani():\n",
    "    savetitle = \"Pendulum_L=\"+str(L)+\"_g=\"+str(g)+\".gif\"\n",
    "    ani.save(savetitle, writer='imagemagick', fps=30);\n",
    "\n",
    "save_ani()    \n",
    "plt.show()"
   ]
  },
  {
   "cell_type": "markdown",
   "metadata": {
    "collapsed": true
   },
   "source": [
    "<center> <img src=\"Pendulum_L=1.0_g=9.81.gif\" />  </center>"
   ]
  },
  {
   "cell_type": "code",
   "execution_count": null,
   "metadata": {
    "collapsed": true
   },
   "outputs": [],
   "source": []
  }
 ],
 "metadata": {
  "kernelspec": {
   "display_name": "Python 2",
   "language": "python",
   "name": "python2"
  },
  "language_info": {
   "codemirror_mode": {
    "name": "ipython",
    "version": 2
   },
   "file_extension": ".py",
   "mimetype": "text/x-python",
   "name": "python",
   "nbconvert_exporter": "python",
   "pygments_lexer": "ipython2",
   "version": "2.7.6"
  }
 },
 "nbformat": 4,
 "nbformat_minor": 0
}
